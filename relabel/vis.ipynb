{
 "cells": [
  {
   "cell_type": "code",
   "execution_count": null,
   "metadata": {
    "collapsed": true
   },
   "outputs": [],
   "source": [
    "import pickle\n",
    "import os\n",
    "import shutil\n",
    "import SimpleITK as sitk\n",
    "import matplotlib.pyplot as plt\n",
    "import numpy as np\n",
    "\n",
    "image_path = '/var/scratch/jliu5/Medical/Datasets/data/train/tumor/kits/imagesTr/kits_train_001.nii.gz'\n",
    "label_path = '/var/scratch/jliu5/Medical/Datasets/data/train/tumor/kits/labelsTr/kits_train_001.nii.gz'\n",
    "\n",
    "sitk_image = sitk.ReadImage(image_path)\n",
    "sitk_label = sitk.ReadImage(label_path)\n",
    "\n",
    "image = sitk.GetArrayFromImage(sitk_image)\n",
    "label = sitk.GetArrayFromImage(sitk_label)\n",
    "\n",
    "for i in range(label.shape[2]):\n",
    "    if label[:,:,i].sum()>0:\n",
    "        print(i)\n",
    "\n",
    "print(np.unique(label))\n",
    "\n",
    "slice_index = 40  # 例如，选择第50个切片\n",
    "\n",
    "# 创建一个包含1行2列的子图\n",
    "fig, axes = plt.subplots(1, 2, figsize=(12, 6))\n",
    "\n",
    "# 绘制图像切片\n",
    "axes[0].imshow(image[:,:,slice_index], cmap='gray')\n",
    "axes[0].set_title(f'Image Slice {slice_index}')\n",
    "axes[0].set_xlabel('X')\n",
    "axes[0].set_ylabel('Y')\n",
    "\n",
    "# 绘制掩码切片\n",
    "axes[1].imshow(label[:,:,slice_index], cmap='gray')  # 使用jet色彩图显示掩码\n",
    "axes[1].set_title(f'Mask Slice {slice_index}')\n",
    "axes[1].set_xlabel('X')\n",
    "axes[1].set_ylabel('Y')\n",
    "\n",
    "plt.show()"
   ]
  },
  {
   "cell_type": "code",
   "execution_count": null,
   "outputs": [],
   "source": [],
   "metadata": {
    "collapsed": false,
    "pycharm": {
     "name": "#%%\n"
    }
   }
  }
 ],
 "metadata": {
  "kernelspec": {
   "display_name": "Python 3",
   "language": "python",
   "name": "python3"
  },
  "language_info": {
   "codemirror_mode": {
    "name": "ipython",
    "version": 2
   },
   "file_extension": ".py",
   "mimetype": "text/x-python",
   "name": "python",
   "nbconvert_exporter": "python",
   "pygments_lexer": "ipython2",
   "version": "2.7.6"
  }
 },
 "nbformat": 4,
 "nbformat_minor": 0
}